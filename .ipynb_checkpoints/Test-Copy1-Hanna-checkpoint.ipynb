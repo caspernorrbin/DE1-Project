{
 "cells": [
  {
   "cell_type": "code",
   "execution_count": 1,
   "id": "67a75e3f",
   "metadata": {},
   "outputs": [],
   "source": [
    "import h5py\n",
    "from pyspark import SparkContext\n",
    "from pyspark.sql import SparkSession, SQLContext\n"
   ]
  },
  {
   "cell_type": "code",
   "execution_count": 3,
   "id": "de115db5",
   "metadata": {},
   "outputs": [],
   "source": [
    "spark = SparkSession.builder \\\n",
    "    .appName(\"Test\") \\\n",
    "    .config(\"spark.master\", \"yarn\") \\\n",
    "    .config(\"spark.submit.deployMode\", \"client\") \\\n",
    "    .getOrCreate()\n",
    "\n",
    "sc = spark.sparkContext\n",
    "sqlContext = SQLContext(sc)\n"
   ]
  },
  {
   "cell_type": "code",
   "execution_count": 4,
   "id": "8236c283",
   "metadata": {},
   "outputs": [
    {
     "name": "stderr",
     "output_type": "stream",
     "text": [
      "                                                                                \r"
     ]
    },
    {
     "name": "stdout",
     "output_type": "stream",
     "text": [
      "-RECORD 0--------------------\n",
      " �HDF | \u0000\u0000\u0000\u0000\u0000\\b\\b\u0000\u0004\u0000\u0010\u0000\u0000\u0000\u0000... \n",
      "-RECORD 1--------------------\n",
      " �HDF | \u0000\\b\u0000\\b\u0000FIELD_0_NA... \n",
      "-RECORD 2--------------------\n",
      " �HDF | \u0000\\b\u0000\\b\u0000FIELD_1_NA... \n",
      "-RECORD 3--------------------\n",
      " �HDF | \u0000\\b\u0000\\b\u0000FIELD_2_NA... \n",
      "-RECORD 4--------------------\n",
      " �HDF | \u0000\\b\u0000\\b\u0000FIELD_3_NA... \n",
      "-RECORD 5--------------------\n",
      " �HDF | \u0000\\b\u0000\\b\u0000FIELD_4_NA... \n",
      "-RECORD 6--------------------\n",
      " �HDF | \u0000\u0000\u0000\u0001\u0000\u0000\u0000\u0000\u0000\u0000\u0000artist... \n",
      "-RECORD 7--------------------\n",
      " �HDF | \u0000\\b\u0000\\b\u0000FIELD_5_NA... \n",
      "-RECORD 8--------------------\n",
      " �HDF | \u0000\\b\u0000\\b\u0000FIELD_6_NA... \n",
      "-RECORD 9--------------------\n",
      " �HDF | \u0000\\b\u0000\\b\u0000FIELD_7_NA... \n",
      "-RECORD 10-------------------\n",
      " �HDF | \u0000\\b\u0000\\b\u0000FIELD_8_NA... \n",
      "-RECORD 11-------------------\n",
      " �HDF | \u0000\\b\u0000\\b\u0000FIELD_9_NA... \n",
      "-RECORD 12-------------------\n",
      " �HDF | \u0000\\b\u0000\\b\u0000FIELD_0_FI... \n",
      "-RECORD 13-------------------\n",
      " �HDF | \u0000\\f\u0000\\b\u0000FIELD_1_FI... \n",
      "-RECORD 14-------------------\n",
      " �HDF | \u0000\u0014\u0000\\b\u0000FIELD_2_FIL... \n",
      "-RECORD 15-------------------\n",
      " �HDF | \u0000\u0014\u0000\\b\u0000FIELD_3_FIL... \n",
      "-RECORD 16-------------------\n",
      " �HDF | \u0000\\b\u0000\\b\u0000FIELD_4_FI... \n",
      "-RECORD 17-------------------\n",
      " �HDF | \u0000\u0014\u0000\\b\u0000FIELD_5_FIL... \n",
      "-RECORD 18-------------------\n",
      " �HDF | \u0000\\b\u0000\\b\u0000FIELD_6_FI... \n",
      "-RECORD 19-------------------\n",
      " �HDF | \u0000\u0014\u0000\\b\u0000FIELD_7_FIL... \n",
      "only showing top 20 rows\n",
      "\n"
     ]
    }
   ],
   "source": [
    "hdfs_path = 'hdfs://Group10-master:9000/user/hadoop/MillionSongSubset/A/A/A/'\n",
    "\n",
    "data = sqlContext.read.format('com.databricks.spark.csv').options(header='true', inferschema='true').load(hdfs_path)\n",
    "data.show(vertical=True)"
   ]
  },
  {
   "cell_type": "code",
   "execution_count": 5,
   "id": "8434735e",
   "metadata": {},
   "outputs": [],
   "source": [
    "sc.stop()"
   ]
  },
  {
   "cell_type": "code",
   "execution_count": null,
   "id": "6f2d3d73",
   "metadata": {},
   "outputs": [],
   "source": []
  },
  {
   "cell_type": "code",
   "execution_count": null,
   "id": "72b572de",
   "metadata": {},
   "outputs": [],
   "source": []
  },
  {
   "cell_type": "code",
   "execution_count": null,
   "id": "ddb0cf68",
   "metadata": {},
   "outputs": [],
   "source": []
  }
 ],
 "metadata": {
  "kernelspec": {
   "display_name": "Python 3 (ipykernel)",
   "language": "python",
   "name": "python3"
  },
  "language_info": {
   "codemirror_mode": {
    "name": "ipython",
    "version": 3
   },
   "file_extension": ".py",
   "mimetype": "text/x-python",
   "name": "python",
   "nbconvert_exporter": "python",
   "pygments_lexer": "ipython3",
   "version": "3.10.6"
  }
 },
 "nbformat": 4,
 "nbformat_minor": 5
}
