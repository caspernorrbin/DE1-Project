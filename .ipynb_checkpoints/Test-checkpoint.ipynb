{
 "cells": [
  {
   "cell_type": "code",
   "execution_count": 24,
   "id": "67a75e3f",
   "metadata": {},
   "outputs": [],
   "source": [
    "from pyspark import SparkContext\n",
    "from pyspark.sql import SparkSession, SQLContext\n",
    "\n",
    "\n",
    "import h5py\n",
    "import numpy as np\n",
    "import pandas as pd\n",
    "\n",
    "import hdf5_getters as g"
   ]
  },
  {
   "cell_type": "code",
   "execution_count": 25,
   "id": "de115db5",
   "metadata": {},
   "outputs": [],
   "source": [
    "spark = SparkSession.builder \\\n",
    "    .appName(\"Test\") \\\n",
    "    .config(\"spark.master\", \"yarn\") \\\n",
    "    .config(\"spark.submit.deployMode\", \"client\") \\\n",
    "    .getOrCreate()\n",
    "\n",
    "sc = spark.sparkContext\n",
    "sqlContext = SQLContext(sc)\n"
   ]
  },
  {
   "cell_type": "code",
   "execution_count": 23,
   "id": "8236c283",
   "metadata": {},
   "outputs": [],
   "source": [
    "hdfs_path = 'hdfs://Group10-master:9000/user/hadoop/MillionSongSubset/A/A/A/'\n",
    "data = sqlContext.read.format('com.databricks.spark.csv').options(header='true', inferschema='true').load(hdfs_path)\n",
    "data.show(vertical=True)"
   ]
  },
  {
   "cell_type": "code",
   "execution_count": 9,
   "id": "ddb0cf68",
   "metadata": {},
   "outputs": [],
   "source": [
    "df = sqlContext.read.csv(\"hdfs://Group10-master:9000/user/hadoop/Test.csv\",\n",
    "                        header='true', inferSchema='true')"
   ]
  },
  {
   "cell_type": "code",
   "execution_count": null,
   "id": "f6aed767",
   "metadata": {},
   "outputs": [],
   "source": []
  },
  {
   "cell_type": "code",
   "execution_count": null,
   "id": "cb041b7d",
   "metadata": {},
   "outputs": [],
   "source": []
  },
  {
   "cell_type": "code",
   "execution_count": null,
   "id": "e4cf024f",
   "metadata": {},
   "outputs": [],
   "source": []
  },
  {
   "cell_type": "code",
   "execution_count": null,
   "id": "f3bd6ba1",
   "metadata": {},
   "outputs": [],
   "source": []
  },
  {
   "cell_type": "code",
   "execution_count": null,
   "id": "347840d2",
   "metadata": {},
   "outputs": [],
   "source": []
  },
  {
   "cell_type": "code",
   "execution_count": null,
   "id": "dd7fc351",
   "metadata": {},
   "outputs": [],
   "source": [
    "File_path = 'hdfs://Group10-master:9000/user/hadoop/MillionSongSubset/A/A/A/'\n",
    "\n",
    "\n",
    "h5 = g.open_h5_file_read(File_path)"
   ]
  },
  {
   "cell_type": "code",
   "execution_count": 20,
   "id": "0ccdcc71",
   "metadata": {},
   "outputs": [],
   "source": [
    "sc.stop()"
   ]
  }
 ],
 "metadata": {
  "kernelspec": {
   "display_name": "Python 3 (ipykernel)",
   "language": "python",
   "name": "python3"
  },
  "language_info": {
   "codemirror_mode": {
    "name": "ipython",
    "version": 3
   },
   "file_extension": ".py",
   "mimetype": "text/x-python",
   "name": "python",
   "nbconvert_exporter": "python",
   "pygments_lexer": "ipython3",
   "version": "3.10.6"
  }
 },
 "nbformat": 4,
 "nbformat_minor": 5
}
